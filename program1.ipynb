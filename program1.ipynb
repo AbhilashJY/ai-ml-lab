{
 "cells": [
  {
   "cell_type": "code",
   "execution_count": 1,
   "id": "7fa1e98a",
   "metadata": {},
   "outputs": [
    {
     "name": "stdout",
     "output_type": "stream",
     "text": [
      " path found : ['S', 'A', 'C', 'G'] \n"
     ]
    },
    {
     "data": {
      "text/plain": [
       "['S', 'A', 'C', 'G']"
      ]
     },
     "execution_count": 1,
     "metadata": {},
     "output_type": "execute_result"
    }
   ],
   "source": [
    "\n",
    "\n",
    "class Graph:\n",
    "    def __init__(self, adjac_lis):\n",
    "        self.adjac_lis = adjac_lis\n",
    "\n",
    "    def get_neighbours(self, v):\n",
    "        return self.adjac_lis[v]\n",
    "\n",
    "    def h(self, n):\n",
    "        H = {\n",
    "            'S': 5,\n",
    "            'A': 3,\n",
    "            'B': 4,\n",
    "            'C': 2,\n",
    "            'D': 6,\n",
    "            'G': 0\n",
    "        }\n",
    "        return H[n]\n",
    "\n",
    "    def a_star_algorithm(self, start, stop):\n",
    "        open_lst = set([start])\n",
    "        closed_lst = set([])\n",
    "        dist = {}\n",
    "        dist[start] = 0\n",
    "        prenode = {}\n",
    "        prenode[start] = start\n",
    "        while len(open_lst) > 0:\n",
    "            n = None\n",
    "            for v in open_lst:\n",
    "                if n == None or dist[v] + self.h(v) < dist[n] + self.h(n):\n",
    "                    n = v;\n",
    "            if n == None:\n",
    "                print(\"path dosen't exist\")\n",
    "                return None\n",
    "            if n == stop:\n",
    "                reconst_path = []\n",
    "                while prenode[n] != n:\n",
    "                    reconst_path.append(n)\n",
    "                    n = prenode[n]\n",
    "                reconst_path.append(start)\n",
    "                reconst_path.reverse()\n",
    "                print(' path found : {} '.format(reconst_path))\n",
    "                return reconst_path\n",
    "            for (m, weight) in self.get_neighbours(n):\n",
    "                if m not in open_lst and m not in closed_lst:\n",
    "                    open_lst.add(m)\n",
    "                    prenode[m] = n\n",
    "                    dist[m] = dist[n] + weight\n",
    "                else:\n",
    "                    if dist[m] > dist[n] + weight:\n",
    "                        dist[m] = dist[n] + weight\n",
    "                        prenode[m] = n\n",
    "                        if m in closed_lst:\n",
    "                            closed_lst.remove(m)\n",
    "                            open_lst.add(m)\n",
    "            open_lst.remove(n)\n",
    "            closed_lst.add(n)\n",
    "        print(\"path dosen't exist\")\n",
    "        return None\n",
    "\n",
    "\n",
    "adjac_lis = {'S': [('A', 1), ('G', 10)],\n",
    "             'A': [('B', 2), ('C', 1)],\n",
    "             'B': [('D', 3)],\n",
    "             'C': [('D', 3), ('G', 4)],\n",
    "             'D': [('G', 2)]\n",
    "             }\n",
    "graph1 = Graph(adjac_lis)\n",
    "graph1.a_star_algorithm('S', 'G')\n"
   ]
  },
  {
   "cell_type": "code",
   "execution_count": null,
   "id": "33bfada3",
   "metadata": {},
   "outputs": [],
   "source": []
  }
 ],
 "metadata": {
  "kernelspec": {
   "display_name": "Python 3 (ipykernel)",
   "language": "python",
   "name": "python3"
  },
  "language_info": {
   "codemirror_mode": {
    "name": "ipython",
    "version": 3
   },
   "file_extension": ".py",
   "mimetype": "text/x-python",
   "name": "python",
   "nbconvert_exporter": "python",
   "pygments_lexer": "ipython3",
   "version": "3.10.9"
  }
 },
 "nbformat": 4,
 "nbformat_minor": 5
}
